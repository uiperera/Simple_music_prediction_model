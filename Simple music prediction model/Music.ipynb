{
 "cells": [
  {
   "cell_type": "code",
   "execution_count": 5,
   "id": "b6138787-2fe7-4074-a7bd-ef5cb2be4f62",
   "metadata": {},
   "outputs": [
    {
     "data": {
      "text/plain": [
       "array(['Jazz', 'Dance', 'Acoustic', 'Jazz'], dtype=object)"
      ]
     },
     "execution_count": 5,
     "metadata": {},
     "output_type": "execute_result"
    }
   ],
   "source": [
    "import pandas as pd\n",
    "from sklearn.tree import DecisionTreeClassifier\n",
    "from sklearn.model_selection import train_test_split\n",
    "from sklearn.metrics import accuracy_score\n",
    "music_data = pd.read_csv('music.csv')\n",
    "X= music_data.drop(columns=['genre'])\n",
    "Y=music_data['genre']\n",
    "X_train , X_test , Y_train , Y_test = train_test_split(X,Y, test_size= 0.2)\n",
    "\n",
    "\n",
    "# creating new instance of the class\n",
    "model =  DecisionTreeClassifier()\n",
    "model.fit(X_train,  Y_train )\n",
    "predictions = model.predict(X_test)\n",
    "predictions\n",
    "# to see the accuracy of the model\n",
    "# score= accuracy_score(Y_test, predictions)\n",
    "# score"
   ]
  },
  {
   "cell_type": "code",
   "execution_count": 5,
   "id": "da43b7cc-7c7a-456d-8026-bc4f48cfebf5",
   "metadata": {},
   "outputs": [
    {
     "data": {
      "text/plain": [
       "array(['Jazz', 'Dance', 'Acoustic', 'Jazz'], dtype=object)"
      ]
     },
     "execution_count": 5,
     "metadata": {},
     "output_type": "execute_result"
    }
   ],
   "source": [
    "import pandas as pd\n",
    "from sklearn.tree import DecisionTreeClassifier\n",
    "from sklearn.model_selection import train_test_split\n",
    "from sklearn.metrics import accuracy_score\n",
    "music_data = pd.read_csv('music.csv')\n",
    "X= music_data.drop(columns=['genre'])\n",
    "Y=music_data['genre']\n",
    "X_train , X_test , Y_train , Y_test = train_test_split(X,Y, test_size= 0.2)\n",
    "\n",
    "\n",
    "# creating new instance of the class\n",
    "model =  DecisionTreeClassifier()\n",
    "model.fit(X_train,  Y_train )\n",
    "predictions = model.predict(X_test)\n",
    "predictions\n",
    "# to see the accuracy of the model\n",
    "# score= accuracy_score(Y_test, predictions)\n",
    "# score"
   ]
  },
  {
   "cell_type": "code",
   "execution_count": 27,
   "id": "3b364c58-0497-4161-9807-29869f4749b3",
   "metadata": {},
   "outputs": [],
   "source": [
    "import pandas as pd\n",
    "from sklearn.tree import DecisionTreeClassifier\n",
    "from sklearn import tree\n",
    "\n",
    "music_data=pd.read_csv('music.csv')\n",
    "X= music_data.drop(columns=['genre'])\n",
    "y=music_data['genre']\n",
    "model= DecisionTreeClassifier()\n",
    "model.fit(X,y)\n",
    "\n",
    "tree.export_graphviz(model,out_file ='music-recommender.dot' ,feature_names=['age' ,'gender'],\n",
    "class_names=sorted(y.unique()),\n",
    "label = 'all',\n",
    "rounded=True,\n",
    "filled=True)"
   ]
  },
  {
   "cell_type": "code",
   "execution_count": null,
   "id": "cae8e77d-48bd-4211-9510-ccc8f2f554f9",
   "metadata": {},
   "outputs": [],
   "source": []
  },
  {
   "cell_type": "code",
   "execution_count": null,
   "id": "68c78923-4d70-4a5e-9cb7-856d758b749d",
   "metadata": {},
   "outputs": [],
   "source": []
  }
 ],
 "metadata": {
  "kernelspec": {
   "display_name": "Python 3 (ipykernel)",
   "language": "python",
   "name": "python3"
  },
  "language_info": {
   "codemirror_mode": {
    "name": "ipython",
    "version": 3
   },
   "file_extension": ".py",
   "mimetype": "text/x-python",
   "name": "python",
   "nbconvert_exporter": "python",
   "pygments_lexer": "ipython3",
   "version": "3.11.7"
  }
 },
 "nbformat": 4,
 "nbformat_minor": 5
}
